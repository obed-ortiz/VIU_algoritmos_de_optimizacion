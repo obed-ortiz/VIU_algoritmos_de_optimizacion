{
 "cells": [
  {
   "cell_type": "code",
   "execution_count": null,
   "id": "e0a43a02",
   "metadata": {},
   "outputs": [
    {
     "name": "stdout",
     "output_type": "stream",
     "text": [
      "Solución 1:\n",
      " .  ♛  .  . \n",
      " .  .  .  ♛ \n",
      " ♛  .  .  . \n",
      " .  .  ♛  . \n",
      "\n",
      "\n",
      "Solución 2:\n",
      " .  .  ♛  . \n",
      " ♛  .  .  . \n",
      " .  .  .  ♛ \n",
      " .  ♛  .  . \n",
      "\n",
      "\n",
      "cantidad soluciones\n",
      "[[1, 3, 0, 2], [2, 0, 3, 1]]\n"
     ]
    }
   ],
   "source": [
    "def resolver_n_reinas(N):\n",
    "    solucion=[0 for i in range(N)]\n",
    "    filas_ocupadas = [False] * N\n",
    "    #[0]  [1]  [2]  [3]   \n",
    "    #[1]  [2]  [3]  [4]   \n",
    "    #[2]  [3]  [4]  [5]   \n",
    "    #[3]  [4]  [5]  [6]\n",
    "    # Existen 6 diagonales maximas (2*n-1)\n",
    "    diag_izq_der = [False] * (2 * N - 1)  # fila + columna \n",
    "\n",
    "    #[3]  [4]  [5]  [6]\n",
    "    #[2]  [3]  [4]  [5]\n",
    "    #[1]  [2]  [3]  [4]\n",
    "    #[0]  [1]  [2]  [3]\n",
    "    # Existen 6 diagonales maximas (2*n-1)\n",
    "    diag_der_izq = [False] * (2 * N - 1)  # columna - fila + n - 1\n",
    "\n",
    "    soluciones_encontradas = []\n",
    "\n",
    "    def backtracking(columna_actual):\n",
    "        if columna_actual == N:\n",
    "            soluciones_encontradas.append(solucion.copy())\n",
    "            return\n",
    "\n",
    "        for fila in range(N):\n",
    "            valida_diagonal_der_izq = diag_der_izq[columna_actual - fila + N - 1] # ↙ IDENTIFICA EL ID DE LA DIAGONAL\n",
    "            valida_diagonal_izq_der = diag_izq_der[columna_actual + fila] # ↘ IDENTIFICA EL ID DE LA DIAGONAL\n",
    "\n",
    "            # Validar que ninguna otra reina no este en la fila, ni en ninguna ID de diagonal \n",
    "            if not filas_ocupadas[fila] and not valida_diagonal_izq_der and not valida_diagonal_der_izq:\n",
    "                solucion[columna_actual] = fila\n",
    "                filas_ocupadas[fila] = True\n",
    "                diag_izq_der[columna_actual + fila] = True\n",
    "                diag_der_izq[columna_actual - fila + N - 1] = True\n",
    "\n",
    "                backtracking(columna_actual + 1)\n",
    "\n",
    "                # Quitar reina (retroceder)\n",
    "                filas_ocupadas[fila] = False\n",
    "                diag_izq_der[columna_actual + fila] = False\n",
    "                diag_der_izq[columna_actual - fila + N - 1] = False\n",
    "\n",
    "    backtracking(0)\n",
    "\n",
    "    # Mostrar soluciones\n",
    "    for idx, sol in enumerate(soluciones_encontradas):\n",
    "        print(f\"Solución {idx + 1}:\")\n",
    "        for fila in sol:\n",
    "            print(\" . \" * fila + \" ♛ \" + \" . \" * (N - fila - 1))\n",
    "        print(\"\\n\")\n",
    "\n",
    "    return soluciones_encontradas\n",
    "\n",
    "\n",
    "soluciones = resolver_n_reinas(4)\n",
    "print(\"cantidad soluciones\")\n",
    "print(soluciones)"
   ]
  }
 ],
 "metadata": {
  "kernelspec": {
   "display_name": "Python 3",
   "language": "python",
   "name": "python3"
  },
  "language_info": {
   "codemirror_mode": {
    "name": "ipython",
    "version": 3
   },
   "file_extension": ".py",
   "mimetype": "text/x-python",
   "name": "python",
   "nbconvert_exporter": "python",
   "pygments_lexer": "ipython3",
   "version": "3.12.7"
  }
 },
 "nbformat": 4,
 "nbformat_minor": 5
}
