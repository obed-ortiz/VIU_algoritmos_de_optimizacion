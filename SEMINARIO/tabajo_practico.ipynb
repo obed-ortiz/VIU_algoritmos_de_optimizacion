{
 "cells": [
  {
   "attachments": {
    "image.png": {
     "image/png": "[encoded data removed]"
    }
   },
   "cell_type": "markdown",
   "id": "1aff4bc3",
   "metadata": {},
   "source": [
    "# Algoritmos de optimización - Seminario<br>\n",
    "Nombre y Apellidos:   <br>\n",
    "Url: https://github.com/obed-ortiz/VIU_algoritmos_de_optimizacion/tree/main/SEMINARIO<br>\n",
    "Problema:\n",
    "<b> Sesiones de doblaje </b>\n",
    "\n",
    "Descripción del problema:\n",
    "Se precisa coordinar el doblaje de una película. Los actores del doblaje deben coincidir en las\n",
    "tomas en las que sus personajes aparecen juntos en las diferentes tomas. Los actores de\n",
    "doblaje cobran todos la misma cantidad por cada día que deben desplazarse hasta el estudio de\n",
    "grabación independientemente del número de tomas que se graben. No es posible grabar más\n",
    "de 6 tomas por día. El objetivo es planificar las sesiones por día de manera que el gasto por los\n",
    "servicios de los actores de doblaje sea el menor posible. Los datos son:<br>\n",
    "\n",
    "![image.png](attachment:image.png)\n",
    "\n",
    "<b>Número de actores:</b> 10<br>\n",
    "<b>Número de tomas:</b> 30<br>\n",
    "\n",
    "- 1 indica que el actor participa en la toma<br>\n",
    "- 0 en caso contrario\n",
    "\n"
   ]
  },
  {
   "cell_type": "code",
   "execution_count": 30,
   "id": "8a8dcafb",
   "metadata": {},
   "outputs": [],
   "source": [
    "import random\n",
    "from tabulate import tabulate\n",
    "from copy import deepcopy"
   ]
  },
  {
   "cell_type": "markdown",
   "id": "a09aa08a",
   "metadata": {},
   "source": [
    "<b>Restricciones</b><br>\n",
    "30 tomas deben asignarse a días<br>\n",
    "Máximo 6 tomas por día<br>\n",
    "Cada toma se asigna exactamente una vez<br>"
   ]
  },
  {
   "cell_type": "code",
   "execution_count": 1,
   "id": "b22368fd",
   "metadata": {},
   "outputs": [],
   "source": [
    "max_tomas_por_dia = 6"
   ]
  },
  {
   "cell_type": "markdown",
   "id": "63e46a98",
   "metadata": {},
   "source": [
    "### ¿Cuantas posibilidades hay sin tener en cuenta las restricciones?"
   ]
  },
  {
   "cell_type": "markdown",
   "id": "3048db1c",
   "metadata": {},
   "source": [
    "Para encontrar todas las combinaciones posibles para el ejercicio utilizaremos los números de Bell ($B_n$).\n",
    "\n",
    "Los números de Bell nos dicen cuántas maneras diferentes hay de agrupar los elementos de un conjunto. Imagina que tienes varios objetos: el número de Bell te dice todas las formas posibles en que puedes juntar esos objetos en grupos, donde cada grupo debe tener al menos un objeto y el orden de los grupos no importa.\n",
    "> Ejemplo\n",
    ">\n",
    "> $ B_3 = 5 $ porque el conjunto de tres elementos $\\{a, b, c\\}$ se puede dividir de 5 formas distintas.\n",
    ">\n",
    ">$\\{\\{a\\}, \\{b\\}, \\{c\\}\\}$\n",
    ">\n",
    ">$\\{\\{a\\}, \\{b,c\\}\\}$\n",
    ">\n",
    ">$\\{\\{b\\}, \\{a,c\\}\\}$\n",
    ">\n",
    ">$\\{\\{c\\}, \\{a,b\\}\\}$\n",
    ">\n",
    ">$\\{\\{a,b,c\\}\\}$\n",
    "\n",
    "Los números de Bell cumplen la fórmula de Dobinski\n",
    "\n",
    "$B_n=\\frac{1}{e}\\sum _{k=0} ^{\\infty} \\frac{k^n}{k!}$\n",
    "\n",
    "------------------------------------------------------------------\n",
    "Eplicación con numeros pequeños:\n",
    "\n",
    "Primero hallaremos la sumatoria, por ejemplo:\n",
    "\n",
    "Si deseamos aplicar la suma de k=0 hasta k=3\n",
    "\n",
    "$\\sum _{k=0} ^{3} \\frac{k^n}{k!}$\n",
    "\n",
    "Se tendría que realizar de la siguiente manera:\n",
    "\n",
    "$\\frac{0^{30}}{0!} + \\frac{1^{30}}{1!} + \\frac{2^{30}}{2!} + \\frac{3^{30}}{3!} $\n",
    "\n",
    "$\\approx 0 + 1 + 536870912 + 34315188682441.5 = 34315725553354.5  $\n",
    "\n",
    "------------------------------------------------------------------\n",
    "\n",
    "Aplicando a nuestro problema:\n",
    "\n",
    "$\\sum _{k=0} ^{100} \\frac{k^{30}}{k!} \\approx 2.30×10^{24}$ \n",
    "\n",
    "Ahora aplicaremos $ \\frac{1}{e}  donde, e \\approx 2.71828 $\n",
    "\n",
    "$B_{30} \\approx \\frac{2.30×10^{24}}{2.71828} \\approx 8.46×10^{23}$ "
   ]
  },
  {
   "cell_type": "markdown",
   "id": "283a4929",
   "metadata": {},
   "source": [
    "Aplicando fórmula de Dobinski en Python:"
   ]
  },
  {
   "cell_type": "code",
   "execution_count": 4,
   "id": "acb39beb",
   "metadata": {},
   "outputs": [
    {
     "name": "stdout",
     "output_type": "stream",
     "text": [
      "B_30 = 846749014511809523089408\n"
     ]
    }
   ],
   "source": [
    "import math\n",
    "\n",
    "def dobinski(n, terms=100):\n",
    "    suma = 0\n",
    "    for k in range(terms):\n",
    "        suma += (k ** n) / math.factorial(k)\n",
    "    return round(suma / math.e)\n",
    "n=30\n",
    "print(f\"B_{n} =\", dobinski(n))"
   ]
  },
  {
   "cell_type": "markdown",
   "id": "ce3a6714",
   "metadata": {},
   "source": [
    "Conclusion\n",
    "\n",
    "Las posibilidades sin tener en cuenta las restricciones son: 846749014511809523089408 "
   ]
  },
  {
   "cell_type": "markdown",
   "id": "8dce0561",
   "metadata": {},
   "source": [
    "### ¿Cuantas posibilidades hay teniendo en cuenta todas las restricciones?"
   ]
  },
  {
   "cell_type": "markdown",
   "id": "49e52a93",
   "metadata": {},
   "source": [
    "Para estimar el tiempo que tomará grabar las 30 tomas, sabiendo que no se repiten y que el límite diario es de 6 tomas, podemos establecer un rango:\n",
    "- El mínimo de días sería de 5, asumiendo que se graban las 6 tomas diarias posibles \n",
    "<b>(30 tomas÷6 tomas/día=5 días).</b>\n",
    "- El máximo de días ascendería a 30, en el caso de que solo se grabe una toma por día <b>(30 tomas÷1 toma/día=30 días).</b>\n"
   ]
  },
  {
   "cell_type": "markdown",
   "id": "64211444",
   "metadata": {},
   "source": [
    "### ¿Cual es la estructura de datos que mejor se adapta al problema?\n",
    "Para este ejercicio, se utilizó varias estructuras de datos. Las matrices binarias fueron clave para identificar fácilmente variables del problema, donde las filas representaban las tomas y las columnas, los actores. Un \"1\" indicaba la participación del actor en la toma, mientras que un \"0\" significaba lo contrario.\n",
    "\n",
    "Además, se usó las listas para manejar combinaciones de datos de forma flexible. Finalmente, los conjuntos (sets) permitieron eliminar duplicados en esas combinaciones.\n"
   ]
  },
  {
   "cell_type": "markdown",
   "id": "a2218165",
   "metadata": {},
   "source": [
    "### ¿Cual es la función objetivo?\n",
    "La función objetivo del problema es:<br>\n",
    "Minimizar el costo total de los actores, donde el costo por día es:<br>\n",
    "Costo por día = (Número de actores únicos en el día) X (Costo por actor por día)<br><br>\n",
    "Detalles clave:<br>\n",
    "- Cada actor cobra por día (no por toma), por lo que reutilizar actores en el mismo día reduce costos.\n",
    "- La restricción de máximo 6 tomas/día limita cómo se agrupan las tomas.\n",
    "\n",
    "\n"
   ]
  },
  {
   "cell_type": "markdown",
   "id": "b2f1a724",
   "metadata": {},
   "source": [
    "### ¿Es un problema de maximización o minimización?"
   ]
  },
  {
   "cell_type": "markdown",
   "id": "1bdf7d26",
   "metadata": {},
   "source": [
    "El problema es de minimización, ya que el objetivo es reducir al mínimo posible el costo por los servicios de los actores de doblaje.\n",
    "\n",
    "Se busca que el costo total (número de días que los actores deben desplazarse al estudio) sea el menor posible. Cada actor cobra por día de trabajo, independientemente de cuántas tomas se graben ese día.\n",
    "\n",
    "Para minimizar los costos, es crucial seleccionar cuidadosamente las tomas a realizar cada día. No es obligatorio grabar las 6 tomas diarias; esta flexibilidad nos ofrece más oportunidades para optimizar los gastos."
   ]
  },
  {
   "cell_type": "markdown",
   "id": "271f2aa1",
   "metadata": {},
   "source": [
    "### Diseña un algoritmo para resolver el problema por fuerza bruta"
   ]
  },
  {
   "cell_type": "markdown",
   "id": "70a34bc1",
   "metadata": {},
   "source": [
    "#### FUERZA BRUTA"
   ]
  },
  {
   "cell_type": "code",
   "execution_count": 5,
   "id": "ac6f719a",
   "metadata": {},
   "outputs": [],
   "source": [
    "dataset_furza_bruta = [\n",
    "    [1,\t1,\t1,\t1,\t1,\t0,\t0,\t0,\t0,\t0], # Toma 1\n",
    "    [0,\t0,\t1,\t1,\t1,\t0,\t0,\t0,\t0,\t0], # Toma 2\n",
    "    [0,\t1,\t0,\t0,\t1,\t0,\t1,\t0,\t0,\t0], # Toma 3\n",
    "    [1,\t1,\t0,\t0,\t0,\t0,\t1,\t1,\t0,\t0], # Toma 4\n",
    "    [0,\t1,\t0,\t1,\t0,\t0,\t0,\t1,\t0,\t0], # Toma 5\n",
    "    [1,\t1,\t0,\t1,\t1,\t0,\t0,\t0,\t0,\t0], # Toma 6\n",
    "    [1,\t1,\t0,\t1,\t1,\t0,\t0,\t0,\t0,\t0], # Toma 7\n",
    "    [1,\t1,\t0,\t0,\t0,\t1,\t0,\t0,\t0,\t0], # Toma 8\n",
    "    [1,\t1,\t0,\t1,\t0,\t0,\t0,\t0,\t0,\t0], # Toma 9\n",
    "    [1,\t1,\t0,\t0,\t0,\t1,\t0,\t0,\t1,\t0], # Toma 10\n",
    "    [1,\t1,\t1,\t0,\t1,\t0,\t0,\t1,\t0,\t0], # Toma 11\n",
    "    [1,\t1,\t1,\t1,\t0,\t1,\t0,\t0,\t0,\t0], # Toma 12\n",
    "]\n",
    "num_tomas_furza_bruta = len(dataset_furza_bruta)\n",
    "num_actores_furza_bruta = len(dataset_furza_bruta[0])\n",
    "max_tomas_por_dia_furza_bruta = 3"
   ]
  },
  {
   "cell_type": "markdown",
   "id": "10fc830c",
   "metadata": {},
   "source": [
    "<b>Búsqueda de combinaciones de tomas</b>\n",
    "\n",
    "Se busca todas las combinaciones de “num_tomas” con la restricción de un número máximo de agrupaciones “max_tomas_por_dia”.<br>\n",
    "Por ejemplo, si son 3 tomas con la restricción de 2 tomas máximo por día, se obtendrá las siguientes combinaciones:\n",
    "```\n",
    "[\n",
    "    [[0], [1, 2]], \n",
    "    [[0, 2], [1]], \n",
    "    [[0, 1], [2]], \n",
    "    [[0], [1], [2]]\n",
    "]\n",
    "```"
   ]
  },
  {
   "cell_type": "code",
   "execution_count": 3,
   "id": "281e9086",
   "metadata": {},
   "outputs": [
    {
     "ename": "NameError",
     "evalue": "name 'num_tomas_furza_bruta' is not defined",
     "output_type": "error",
     "traceback": [
      "\u001b[31m---------------------------------------------------------------------------\u001b[39m",
      "\u001b[31mNameError\u001b[39m                                 Traceback (most recent call last)",
      "\u001b[36mCell\u001b[39m\u001b[36m \u001b[39m\u001b[32mIn[3]\u001b[39m\u001b[32m, line 41\u001b[39m\n\u001b[32m     38\u001b[39m     \u001b[38;5;66;03m# Cambiar formato tupla a matriz\u001b[39;00m\n\u001b[32m     39\u001b[39m     \u001b[38;5;28;01mreturn\u001b[39;00m [\u001b[38;5;28mlist\u001b[39m(\u001b[38;5;28mlist\u001b[39m(sesion) \u001b[38;5;28;01mfor\u001b[39;00m sesion \u001b[38;5;129;01min\u001b[39;00m particion) \u001b[38;5;28;01mfor\u001b[39;00m particion \u001b[38;5;129;01min\u001b[39;00m resultado]\n\u001b[32m---> \u001b[39m\u001b[32m41\u001b[39m combinaciones = particiones_max_tomas_por_dia(\u001b[38;5;28mlist\u001b[39m(\u001b[38;5;28mrange\u001b[39m(\u001b[43mnum_tomas_furza_bruta\u001b[49m)), max_tomas_por_dia_furza_bruta)\n\u001b[32m     42\u001b[39m \u001b[38;5;28mprint\u001b[39m(\u001b[33mf\u001b[39m\u001b[33m\"\u001b[39m\u001b[33mCantidad de combinaciones: \u001b[39m\u001b[38;5;132;01m{\u001b[39;00m\u001b[38;5;28mlen\u001b[39m(combinaciones)\u001b[38;5;132;01m}\u001b[39;00m\u001b[33m\"\u001b[39m)\n",
      "\u001b[31mNameError\u001b[39m: name 'num_tomas_furza_bruta' is not defined"
     ]
    }
   ],
   "source": [
    "# hallar todas las combinaciones de tomas\n",
    "def ordenar_resultados(grupos):\n",
    "    grupos_ordenados = []\n",
    "    for grupo in grupos:\n",
    "        grupo_ordenado = tuple(sorted(grupo))\n",
    "        grupos_ordenados.append(grupo_ordenado)\n",
    "\n",
    "    # Ordenar los grupos por contenido\n",
    "    grupos_ordenados.sort()\n",
    "    return tuple(grupos_ordenados)\n",
    "\n",
    "def particiones_max_tomas_por_dia(lista, max_tomas_por_dia):\n",
    "    # Set para eliminar duplicados\n",
    "    resultado = set()\n",
    "\n",
    "    def generar_grupos(elementos, grupos_actuales):\n",
    "        if not elementos:\n",
    "            # Ordenar el resultado y convertir a tuplas para evitar duplicados\n",
    "            normalizada = ordenar_resultados(grupos_actuales)\n",
    "            resultado.add(normalizada)\n",
    "            return\n",
    "        \n",
    "        elemento_evaluado = elementos[0]\n",
    "        resto = elementos[1:]\n",
    "\n",
    "        for i,sesion in enumerate(grupos_actuales):\n",
    "            if len(sesion) < max_tomas_por_dia:\n",
    "                sesion.append(elemento_evaluado)\n",
    "                generar_grupos(resto, grupos_actuales)\n",
    "                sesion.pop()\n",
    "\n",
    "        # Crear nuevo grupo si es necesario\n",
    "        grupos_actuales.append([elemento_evaluado])\n",
    "        generar_grupos(resto, grupos_actuales)\n",
    "        grupos_actuales.pop()\n",
    "\n",
    "    generar_grupos(lista, [])\n",
    "    # Cambiar formato tupla a matriz\n",
    "    return [list(list(sesion) for sesion in particion) for particion in resultado]\n",
    "\n",
    "combinaciones = particiones_max_tomas_por_dia(list(range(num_tomas_furza_bruta)), max_tomas_por_dia_furza_bruta)\n",
    "print(f\"Cantidad de combinaciones: {len(combinaciones)}\")"
   ]
  },
  {
   "cell_type": "markdown",
   "id": "33c93dce",
   "metadata": {},
   "source": [
    "<b>Calcular el costo de las de grabación por día.</b>\n",
    "\n",
    "Se necesita una función que, dada la cantidad de tomas realizadas en un día, identifique a todos los actores que participaron en ellas. Independientemente del número de tomas en las que aparezca un actor, su participación se considerará como un costo único, según lo especificado en el enunciado del ejercicio.\n",
    "###### ”Los actores de doblaje cobran toda la misma cantidad por cada día que deben desplazarse hasta el estudio de grabación independientemente del número de tomas que se graben”"
   ]
  },
  {
   "cell_type": "code",
   "execution_count": 4,
   "id": "adb6e0de",
   "metadata": {},
   "outputs": [],
   "source": [
    "def calcular_costo_tomas(tomas, dataset,num_actores):\n",
    "    if not tomas:\n",
    "        return 0\n",
    "    \n",
    "    # Obtener todos los actores que aparecen en las tomas de esta sesión\n",
    "    actores_necesarios = [False] * num_actores\n",
    "\n",
    "    for i in tomas:\n",
    "        for j in range(num_actores):\n",
    "            if dataset[i][j] == 1:\n",
    "                actores_necesarios[j] = True\n",
    "    actores_tomas = [i for i, val in enumerate(actores_necesarios) if val]\n",
    "    costo_tomas = sum(1 for x in actores_necesarios if x)\n",
    "    return costo_tomas, actores_tomas"
   ]
  },
  {
   "cell_type": "markdown",
   "id": "28311de0",
   "metadata": {},
   "source": [
    "<b>Evaluación de una combinación.</b>\n",
    "\n",
    "Se calcula el costo total de cada combinación para identificar cuál es la óptima."
   ]
  },
  {
   "cell_type": "code",
   "execution_count": 5,
   "id": "ebbb9055",
   "metadata": {},
   "outputs": [],
   "source": [
    "def evaluar_combinacion(tomas, dataset,num_actores):\n",
    "    costo_total = 0\n",
    "    detalles = []\n",
    "    \n",
    "    for i, toma in enumerate(tomas):\n",
    "        costo_toma, actores_toma = calcular_costo_tomas(toma, dataset,num_actores)\n",
    "        costo_total += costo_toma\n",
    "        \n",
    "        detalles.append({\n",
    "            'sesion': i + 1,\n",
    "            'tomas': [t + 1 for t in toma],\n",
    "            'num_tomas': len(toma),\n",
    "            'actores': [a + 1 for a in actores_toma],\n",
    "            'costo': costo_toma\n",
    "        })\n",
    "    return costo_total, detalles"
   ]
  },
  {
   "cell_type": "markdown",
   "id": "42d2cee1",
   "metadata": {},
   "source": [
    "<b>Evaluación de todas las combinaciones</b>\n",
    "\n",
    "Se calcula el costo total de cada combinación para identificar cuál es la óptima."
   ]
  },
  {
   "cell_type": "code",
   "execution_count": 6,
   "id": "cb7d13e2",
   "metadata": {},
   "outputs": [],
   "source": [
    "def evaluar_combinaciones(particiones, dataset,num_actores):\n",
    "    mejor_costo = float('inf')\n",
    "    propiedades_solucion = []\n",
    "    # Evaluar cada combinacion\n",
    "    for i, particion in enumerate(particiones):\n",
    "        costo, detalles_evaluacion = evaluar_combinacion(particion, dataset,num_actores)\n",
    "        if costo < mejor_costo:\n",
    "            propiedades_solucion = []\n",
    "            mejor_costo = costo\n",
    "            dia = 1\n",
    "            for item in detalles_evaluacion:\n",
    "                propiedades_solucion.append({\n",
    "                    'dia': dia,\n",
    "                    'tomas': item['tomas'],\n",
    "                    'costo': item['costo']\n",
    "                })\n",
    "                dia += 1\n",
    "    \n",
    "    return propiedades_solucion"
   ]
  },
  {
   "cell_type": "markdown",
   "id": "58bbc8e3",
   "metadata": {},
   "source": [
    "<b>Resultado de fuerza bruta</b>"
   ]
  },
  {
   "cell_type": "code",
   "execution_count": 10,
   "id": "9efabe0f",
   "metadata": {},
   "outputs": [
    {
     "name": "stdout",
     "output_type": "stream",
     "text": [
      "+-------+-----------+---------+\n",
      "|   Día | Tomas     |   Costo |\n",
      "+=======+===========+=========+\n",
      "|     1 | 1, 2, 11  |       6 |\n",
      "+-------+-----------+---------+\n",
      "|     2 | 3, 6, 7   |       5 |\n",
      "+-------+-----------+---------+\n",
      "|     3 | 4, 5, 9   |       5 |\n",
      "+-------+-----------+---------+\n",
      "|     4 | 8, 10, 12 |       6 |\n",
      "+-------+-----------+---------+\n",
      "Costo total: 22\n"
     ]
    }
   ],
   "source": [
    "resultado = evaluar_combinaciones(combinaciones, dataset_furza_bruta,num_actores_furza_bruta)\n",
    "tabla = [[d['dia'], ', '.join(map(str, d['tomas'])), d['costo']] for d in resultado]\n",
    "print(tabulate(tabla, headers=[\"Día\", \"Tomas\", \"Costo\"], tablefmt=\"grid\"))\n",
    "print(\"Costo total:\", sum(d['costo'] for d in resultado))\n"
   ]
  },
  {
   "cell_type": "markdown",
   "id": "8cec6fc9",
   "metadata": {},
   "source": [
    "### Calcula la complejidad del algoritmo por fuerza bruta"
   ]
  },
  {
   "cell_type": "markdown",
   "id": "4bc8fcb9",
   "metadata": {},
   "source": [
    "El algoritmo de fuerza bruta que se está usando, examina todas las combinaciones posibles para dar con la mejor solución. Su complejidad está determinada principalmente por dos operaciones clave.\n",
    "- Identificar todas las combinaciones mediante el método \"particiones_max_tomas_por_dia\".\n",
    "- Evaluar el costo de cada combinación y encontrar la solución más optima mediante el metodo \"evaluar_combinaciones\".\n",
    "\n",
    "La funcion \"particiones_max_tomas_por_dia\" genera todas las particiones posibles del conjunto de \"n\" elementos, donde cada subconjunto tiene máximo \"a\" elementos y el número de particiones crece exponencialmente.\n",
    "\n",
    "Complejidad:\n",
    "$O({a^n})$\n",
    "\n",
    "La funcion \"evaluar_combinaciones\" para cada partición recorre todas las tomas y actores, donde \"e\" es la cantidad de actores.\n",
    "\n",
    "Complejidad:\n",
    "$O(n.e)$\n",
    "\n",
    "Complejidad total aproximada del algoritmo:\n",
    "$O({a^n.n.e})$\n",
    "\n",
    "Donde:\n",
    "\n",
    "n = número de tomas\n",
    "\n",
    "a = máximo de tomas por día\n",
    "\n",
    "e = número de actores\n",
    "\n",
    "Sin embargo, el factor dominante es la cantidad exponencial de particiones, no la evaluación lineal de cada una.\n",
    "\n",
    "<b>Conclusión:</b>\n",
    "\n",
    "El algoritmo es de orden exponencial, $O({a^n})$\n"
   ]
  },
  {
   "cell_type": "markdown",
   "id": "4fcf6ccb",
   "metadata": {},
   "source": [
    "### Diseña un algoritmo que mejore la complejidad del algoritmo por fuerza bruta. Argumenta porque crees que mejora el algoritmo por fuerza bruta"
   ]
  },
  {
   "cell_type": "markdown",
   "id": "0aa45cc5",
   "metadata": {},
   "source": [
    "<b> DATASET</b>"
   ]
  },
  {
   "cell_type": "code",
   "execution_count": 7,
   "id": "d941d999",
   "metadata": {},
   "outputs": [],
   "source": [
    "dataset = [\n",
    "    [1,\t1,\t1,\t1,\t1,\t0,\t0,\t0,\t0,\t0], # Toma 1\n",
    "    [0,\t0,\t1,\t1,\t1,\t0,\t0,\t0,\t0,\t0], # Toma 2\n",
    "    [0,\t1,\t0,\t0,\t1,\t0,\t1,\t0,\t0,\t0], # Toma 3\n",
    "    [1,\t1,\t0,\t0,\t0,\t0,\t1,\t1,\t0,\t0], # Toma 4\n",
    "    [0,\t1,\t0,\t1,\t0,\t0,\t0,\t1,\t0,\t0], # Toma 5\n",
    "    [1,\t1,\t0,\t1,\t1,\t0,\t0,\t0,\t0,\t0], # Toma 6\n",
    "    [1,\t1,\t0,\t1,\t1,\t0,\t0,\t0,\t0,\t0], # Toma 7\n",
    "    [1,\t1,\t0,\t0,\t0,\t1,\t0,\t0,\t0,\t0], # Toma 8\n",
    "    [1,\t1,\t0,\t1,\t0,\t0,\t0,\t0,\t0,\t0], # Toma 9\n",
    "    [1,\t1,\t0,\t0,\t0,\t1,\t0,\t0,\t1,\t0], # Toma 10\n",
    "    [1,\t1,\t1,\t0,\t1,\t0,\t0,\t1,\t0,\t0], # Toma 11\n",
    "    [1,\t1,\t1,\t1,\t0,\t1,\t0,\t0,\t0,\t0], # Toma 12\n",
    "    [1,\t0,\t0,\t1,\t1,\t0,\t0,\t0,\t0,\t0], # Toma 13\n",
    "    [1,\t0,\t1,\t0,\t0,\t1,\t0,\t0,\t0,\t0], # Toma 14\n",
    "    [1,\t1,\t0,\t0,\t0,\t0,\t1,\t0,\t0,\t0], # Toma 15\n",
    "    [0,\t0,\t0,\t1,\t0,\t0,\t0,\t0,\t0,\t1], # Toma 16\n",
    "    [1,\t0,\t1,\t0,\t0,\t0,\t0,\t0,\t0,\t0], # Toma 17\n",
    "    [0,\t0,\t1,\t0,\t0,\t1,\t0,\t0,\t0,\t0], # Toma 18\n",
    "    [1,\t0,\t1,\t0,\t0,\t0,\t0,\t0,\t0,\t0], # Toma 19\n",
    "    [1,\t0,\t1,\t1,\t1,\t0,\t0,\t0,\t0,\t0], # Toma 20\n",
    "    [0,\t0,\t0,\t0,\t0,\t1,\t0,\t1,\t0,\t0], # Toma 21\n",
    "    [1,\t1,\t1,\t1,\t0,\t0,\t0,\t0,\t0,\t0], # Toma 22\n",
    "    [1,\t0,\t1,\t0,\t0,\t0,\t0,\t0,\t0,\t0], # Toma 23\n",
    "    [0,\t0,\t1,\t0,\t0,\t1,\t0,\t0,\t0,\t0], # Toma 24\n",
    "    [1,\t1,\t0,\t1,\t0,\t0,\t0,\t0,\t0,\t1], # Toma 25\n",
    "    [1,\t0,\t1,\t0,\t1,\t0,\t0,\t0,\t1,\t0], # Toma 26\n",
    "    [0,\t0,\t0,\t1,\t1,\t0,\t0,\t0,\t0,\t0], # Toma 27\n",
    "    [1,\t0,\t0,\t1,\t0,\t0,\t0,\t0,\t0,\t0], # Toma 28\n",
    "    [1,\t0,\t0,\t0,\t1,\t1,\t0,\t0,\t0,\t0], # Toma 29\n",
    "    [1,\t0,\t0,\t1,\t0,\t0,\t0,\t0,\t0,\t0], # Toma 30\n",
    "]\n",
    "num_tomas = len(dataset)\n",
    "num_actores = len(dataset[0])  "
   ]
  },
  {
   "cell_type": "markdown",
   "id": "a7e25e07",
   "metadata": {},
   "source": [
    "<b>Algoritmo Voraz</b><br>\n",
    "Este método usa un enfoque de algoritmo voraz para organizar tomas de doblaje en sesiones diarias, minimizando el costo total de actores requeridos.\n",
    "\n",
    "Tiene como objetivo agrupar tomas en sesiones de hasta \"max_tomas_por_dia\" (6), minimizando el costo diario de actores. \n",
    "\n",
    "Construcción de sesiones por cada día:<br>\n",
    "- sesion_actual: Lista de tomas asignadas al día.\n",
    "- actores_actuales: Conjunto de actores requeridos en el día.\n",
    "- Valida el límite diario (6) de sesiones:\n",
    "- Si es la primera toma del día, da una puntuación (score) según la cantidad de actores\n",
    "- Para las tomas posteriores, el score es igual a actores nuevos menos el 20% de actores ya presentes (Para incentivar el uso de actores ya existentes)\n",
    "- Selecciona la toma con menor score\n",
    "- Actualiza actores_actuales y elimina la toma de tomas_restantes.\n",
    "\n",
    "Observaciones:\n",
    "\n",
    "- Minimización de actores nuevos priorizando tomas que requieran menos actores adicionales\n",
    "- El término -0.2 * actores_comunes favorece tomas que compartan actores con las ya seleccionadas, reduciendo costos.\n",
    "- Es un algoritmo determinista, siempre elige la mejor opción local, lo que puede llevar a mínimos locales"
   ]
  },
  {
   "cell_type": "code",
   "execution_count": null,
   "id": "d84f0907",
   "metadata": {},
   "outputs": [],
   "source": [
    "def get_actores_toma(toma_idx):\n",
    "  return {i for i, val in enumerate(dataset[toma_idx]) if val == 1}\n",
    "\n",
    "def algoritmo_voraz():\n",
    "  tomas_restantes = set(range(num_tomas))\n",
    "  sesiones = []\n",
    "  \n",
    "  while tomas_restantes:\n",
    "      sesion_actual = []\n",
    "      actores_actuales = set()\n",
    "      \n",
    "      while len(sesion_actual) < max_tomas_por_dia and tomas_restantes:\n",
    "          mejor_toma = None\n",
    "          mejor_score = float('inf')\n",
    "          \n",
    "          for toma in tomas_restantes:\n",
    "              # Actores que participan en la toma\n",
    "              actores_toma = get_actores_toma(toma)\n",
    "              \n",
    "              if not sesion_actual:\n",
    "                  # Primera toma: minimizar actores totales\n",
    "                  score = len(actores_toma)\n",
    "              else:\n",
    "                  # Calcular el costo incremental real\n",
    "                  nuevos_actores = actores_toma - actores_actuales\n",
    "                  score = len(nuevos_actores)\n",
    "                  \n",
    "                  # Bonus por actores en común\n",
    "                  actores_comunes = len(actores_toma & actores_actuales)\n",
    "                  if actores_comunes > 0:\n",
    "                      score -= 0.2 * actores_comunes\n",
    "                                    \n",
    "              if score < mejor_score:\n",
    "                  # Set de mejor solucion\n",
    "                  mejor_score = score\n",
    "                  mejor_toma = toma\n",
    "          \n",
    "          if mejor_toma is not None:              \n",
    "              sesion_actual.append(mejor_toma)\n",
    "              # Actualiza actores actuales\n",
    "              actores_actuales.update(get_actores_toma(mejor_toma))\n",
    "              # Actualiza tomas restantes\n",
    "              tomas_restantes.remove(mejor_toma)\n",
    "          else:\n",
    "              break\n",
    "      \n",
    "      if sesion_actual:\n",
    "          sesiones.append(sesion_actual)\n",
    "  \n",
    "  return sesiones"
   ]
  },
  {
   "cell_type": "markdown",
   "id": "1c8d71ab",
   "metadata": {},
   "source": [
    "<b>Búsqueda local con soluciones aleatorias</b><br>\n",
    "Este método combina generación aleatoria de soluciones iniciales con una búsqueda local para optimizar la búsqueda de tomas.\n",
    "\n",
    "La función \"generar_solucion_aleatoria()\" tiene como propósito crear una solución inicial pero no optimizada. Aleatoriza la lista de tomas (random.shuffle) y las divide en sesiones de \"máximo max_tomas_por_dia\" (6)\n",
    "\n",
    "La función \"busqueda_local(solucion_inicial, iteraciones=1000)\" tiene como propósito mejorar la solución actual con cambios pequeños \"nueva_solucion\".\n",
    "\n",
    "Pasos detallados:\n",
    "\n",
    "1. Inicialización:\n",
    "- Copia la solución inicial con deepcopy\n",
    "- Calcula su costo con \"evaluar_combinacion()\"\n",
    "\n",
    "2. Generación de Nueva Solución:\n",
    "- En cada iteración elige dos sesiones distintas al azar (i y j).\n",
    "- Selecciona una toma de cada sesión (toma_i, toma_j).\n",
    "- Crea una solución intercambiando las tomas entre sesiones.\n",
    "\n",
    "3. Evaluación y actualización:\n",
    "- Si la nueva solución es válida y su costo es menor, se convierte en la nueva solución.\n",
    "- Tras \"x\" intentos, devuelve la mejor solución encontrada."
   ]
  },
  {
   "cell_type": "code",
   "execution_count": null,
   "id": "7b2e23c1",
   "metadata": {},
   "outputs": [],
   "source": [
    "def generar_solucion_aleatoria():\n",
    "    tomas = list(range(num_tomas))\n",
    "    random.shuffle(tomas)\n",
    "    solucion = []\n",
    "    while tomas:\n",
    "        sesion = tomas[:max_tomas_por_dia]\n",
    "        tomas = tomas[max_tomas_por_dia:]\n",
    "        solucion.append(sesion)\n",
    "    return solucion\n",
    "\n",
    "def busqueda_local(solucion_inicial, iteraciones=1000):\n",
    "    mejor_solucion = deepcopy(solucion_inicial)\n",
    "    mejor_costo, _ = evaluar_combinacion(mejor_solucion, dataset, num_actores)\n",
    "    \n",
    "    for _ in range(iteraciones):\n",
    "        if len(mejor_solucion) < 1:\n",
    "            continue\n",
    "            \n",
    "        i, j = random.sample(range(len(mejor_solucion)), 2)\n",
    "        if not mejor_solucion[i] or not mejor_solucion[j]:\n",
    "            continue\n",
    "            \n",
    "        toma_i = random.choice(mejor_solucion[i])\n",
    "        toma_j = random.choice(mejor_solucion[j])\n",
    "        \n",
    "        nueva_solucion = deepcopy(mejor_solucion)\n",
    "        nueva_solucion[i].remove(toma_i)\n",
    "        nueva_solucion[i].append(toma_j)\n",
    "        nueva_solucion[j].remove(toma_j)\n",
    "        nueva_solucion[j].append(toma_i)\n",
    "        \n",
    "        # Verificar restricciones\n",
    "        if all(len(sesion) <= max_tomas_por_dia for sesion in nueva_solucion):\n",
    "            costo, _ = evaluar_combinacion(nueva_solucion, dataset, num_actores)\n",
    "            if costo < mejor_costo:\n",
    "                mejor_solucion = nueva_solucion\n",
    "                mejor_costo = costo\n",
    "                \n",
    "    return mejor_solucion, mejor_costo"
   ]
  },
  {
   "cell_type": "markdown",
   "id": "d2f72b97",
   "metadata": {},
   "source": [
    "<b>Búsqueda local con repeticiones vs algoritmo voraz</b><br>\n",
    "Este método combina soluciones aleatorias con búsqueda local y comparándolas con una solución voraz inicial. El objetivo principal es encontrar el menos costo total de la siguiente manera:\n",
    "\n",
    "- Generación de soluciones aleatorias diversas.\n",
    "- Refinamiento con búsqueda local.\n",
    "- Comparación constante con una solución voraz.\n",
    "\n",
    "Pasos detallados:\n",
    "- Utiliza la solución voraz\n",
    "- Genera un bucle de repeticiones \"num_repeticiones\" para explorar el espacio de soluciones\n",
    "- Genera una solución aleatoria\n",
    "- Realiza la búsqueda local\n",
    "- Compara resultados de búsqueda local con solución voraz\n",
    "- Utiliza la mejor solución global\n",
    "\n"
   ]
  },
  {
   "cell_type": "code",
   "execution_count": 101,
   "id": "5b04ffc3",
   "metadata": {},
   "outputs": [],
   "source": [
    "def solucion_combinada(num_repeticiones=300):\n",
    "    mejor_solucion_global = None\n",
    "    mejor_costo_global = float('inf')\n",
    "    \n",
    "    solucion_greedy = algoritmo_voraz()\n",
    "    costo_greedy, _ = evaluar_combinacion(solucion_greedy, dataset, num_actores)\n",
    "\n",
    "    for _ in range(num_repeticiones):\n",
    "        # Generar solución inicial aleatoria\n",
    "        solucion_inicial = generar_solucion_aleatoria()\n",
    "        \n",
    "        # Aplicar búsqueda local\n",
    "        solucion, costo = busqueda_local(solucion_inicial)\n",
    "        \n",
    "        # Tomar la mejor entre las dos\n",
    "        if costo_greedy < costo:\n",
    "            solucion, costo = solucion_greedy, costo_greedy\n",
    "            \n",
    "        # Actualizar mejor global\n",
    "        if costo < mejor_costo_global:\n",
    "            mejor_solucion_global = solucion\n",
    "            mejor_costo_global = costo\n",
    "            \n",
    "    return mejor_solucion_global, mejor_costo_global"
   ]
  },
  {
   "cell_type": "code",
   "execution_count": 102,
   "id": "ef11b271",
   "metadata": {},
   "outputs": [
    {
     "name": "stdout",
     "output_type": "stream",
     "text": [
      "+-------+------------------------+---------+\n",
      "|   Día | Tomas                  |   Costo |\n",
      "+=======+========================+=========+\n",
      "|     1 | 5, 4, 11, 22, 3, 15    |       7 |\n",
      "+-------+------------------------+---------+\n",
      "|     2 | 7, 27, 30, 9, 28, 6    |       4 |\n",
      "+-------+------------------------+---------+\n",
      "|     3 | 10, 8, 2, 12, 26, 29   |       7 |\n",
      "+-------+------------------------+---------+\n",
      "|     4 | 24, 14, 21, 18, 17, 23 |       4 |\n",
      "+-------+------------------------+---------+\n",
      "|     5 | 16, 19, 13, 25, 1, 20  |       6 |\n",
      "+-------+------------------------+---------+\n",
      "Costo total: 28\n"
     ]
    }
   ],
   "source": [
    "# solucion = algoritmo_voraz()\n",
    "# solucion_inicial = generar_solucion_aleatoria()\n",
    "# solucion, costo = busqueda_local(solucion_inicial, 15500)\n",
    "solucion, mejor_costo = solucion_combinada()\n",
    "costo, detalles_evaluacion = evaluar_combinacion(solucion, dataset,num_actores)\n",
    "propiedades_solucion = []\n",
    "mejor_costo = costo\n",
    "dia = 1\n",
    "for item in detalles_evaluacion:\n",
    "    propiedades_solucion.append({\n",
    "        'dia': dia,\n",
    "        'tomas': item['tomas'],\n",
    "        'costo': item['costo']\n",
    "    })\n",
    "    dia += 1\n",
    "    \n",
    "tabla = [[d['dia'], ', '.join(map(str, d['tomas'])), d['costo']] for d in propiedades_solucion]\n",
    "print(tabulate(tabla, headers=[\"Día\", \"Tomas\", \"Costo\"], tablefmt=\"grid\"))\n",
    "print(\"Costo total:\", sum(d['costo'] for d in propiedades_solucion))"
   ]
  }
 ],
 "metadata": {
  "kernelspec": {
   "display_name": "Python 3",
   "language": "python",
   "name": "python3"
  },
  "language_info": {
   "codemirror_mode": {
    "name": "ipython",
    "version": 3
   },
   "file_extension": ".py",
   "mimetype": "text/x-python",
   "name": "python",
   "nbconvert_exporter": "python",
   "pygments_lexer": "ipython3",
   "version": "3.12.10"
  }
 },
 "nbformat": 4,
 "nbformat_minor": 5
}
